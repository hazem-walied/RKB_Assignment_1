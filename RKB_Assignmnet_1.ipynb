{
 "cells": [
  {
   "cell_type": "code",
   "execution_count": 1,
   "metadata": {},
   "outputs": [
    {
     "name": "stdout",
     "output_type": "stream",
     "text": [
      "['∀x(¬Human(x) ∨ Mortal(x))']\n"
     ]
    }
   ],
   "source": [
    "def eliminate_implication(kb):\n",
    "    new_kb = []\n",
    "    for statement in kb:\n",
    "        if ('∀' in statement or '∃' in statement) and '→' in statement:\n",
    "            quantifier_part, rest = statement.split('(', 1)\n",
    "            variable, inner_statement = rest.split(')', 1)\n",
    "            variable = variable + ')'\n",
    "            inner_statement = inner_statement.replace('→', '∨')\n",
    "            inner_statement = inner_statement.strip()\n",
    "            variable = '¬' + variable\n",
    "\n",
    "            new_statement = f\"{quantifier_part}({variable} {inner_statement}\"\n",
    "            new_kb.append(new_statement)\n",
    "        elif '→' in statement:\n",
    "            parts = statement.split('→')\n",
    "            new_kb.append(f\"(¬{parts[0].strip()} ∨ {parts[1].strip()})\")\n",
    "        else:\n",
    "            new_kb.append(statement)\n",
    "    return new_kb\n",
    "\n",
    "statement = [\"∀x(Human(x) → Mortal(x))\"]\n",
    "print(eliminate_implication(statement))"
   ]
  },
  {
   "cell_type": "code",
   "execution_count": 2,
   "metadata": {},
   "outputs": [
    {
     "name": "stdout",
     "output_type": "stream",
     "text": [
      "['(∃x¬P(x) ^ ∀y¬¬Q(y))']\n"
     ]
    }
   ],
   "source": [
    "def demorgans(kb):\n",
    "    new_kb = []\n",
    "    \n",
    "    for expression in kb:\n",
    "        if \"¬(\" in expression:\n",
    "            # Find the index of the first occurrence of \"¬(\"\n",
    "            not_index = expression.index(\"¬(\")\n",
    "            \n",
    "            # Find the corresponding closing parenthesis\n",
    "            open_count = 0\n",
    "            close_index = -1\n",
    "            for i in range(not_index + 1, len(expression)):\n",
    "                if expression[i] == \"(\":\n",
    "                    open_count += 1\n",
    "                elif expression[i] == \")\":\n",
    "                    if open_count == 1:                                                                                 #from 0 to 1\n",
    "                        close_index = i\n",
    "                        break\n",
    "                    else:\n",
    "                        open_count -= 1\n",
    "\n",
    "            if close_index != -1:\n",
    "                # Extract the expression inside the parentheses\n",
    "                inside_expression = expression[not_index + 2:close_index]\n",
    "           \n",
    "\n",
    "                # Apply De Morgan's Law\n",
    "                new_expression = expression[:not_index] + \"(\"\n",
    "                variable = \"\"\n",
    "                for z in range(0, len(inside_expression)):\n",
    "                    \n",
    "                    if inside_expression[z] == \"^\":\n",
    "                        if variable != \"\":\n",
    "                            new_expression += \"¬\" + variable\n",
    "                            variable = \"\"\n",
    "                        new_expression += \"∨\"\n",
    "\n",
    "                    elif inside_expression[z] == \"∨\":\n",
    "                        if variable != \"\":\n",
    "                            new_expression += \"¬\" + variable\n",
    "                            variable = \"\"\n",
    "                        new_expression += \"^\"\n",
    "\n",
    "                    elif inside_expression[z] == \"∀\":\n",
    "                        new_expression += \"∃\" + inside_expression[z + 1]\n",
    "                        if variable != \"\":\n",
    "                            new_expression += \"¬\" + variable\n",
    "                            variable = \"\"\n",
    "\n",
    "                    elif inside_expression[z]== \"∃\":\n",
    "                        new_expression += \"∀\" + inside_expression[z + 1]\n",
    "                        if variable != \"\":\n",
    "                            new_expression += \"¬\" + variable\n",
    "                            variable = \"\"   \n",
    "                        \n",
    "\n",
    "                    elif inside_expression[z] == \"¬\" or inside_expression[z]  == \" \":\n",
    "                        if variable != \"\":\n",
    "                            new_expression += \"¬\" + variable\n",
    "                            variable = \"\"\n",
    "                        new_expression += inside_expression[z]\n",
    "\n",
    "                    else:\n",
    "                        if inside_expression[z-1] == \"∀\" or inside_expression[z-1] == \"∃\":\n",
    "                            continue\n",
    "                        else:\n",
    "                            variable += inside_expression[z]\n",
    "                        \n",
    "                if variable != \"\":\n",
    "                    new_expression += \"¬\" + variable\n",
    "\n",
    "                new_expression += \")\" + expression[close_index + 1:]\n",
    "                new_kb.append(new_expression)\n",
    "                \n",
    "\n",
    "    \n",
    "    if new_kb != []:\n",
    "        return new_kb\n",
    "    else:\n",
    "        return kb\n",
    "    \n",
    "statement = [\"¬(∀xP(x) ∨ ∃y¬Q(y))\"]\n",
    "print(demorgans(statement))"
   ]
  },
  {
   "cell_type": "code",
   "execution_count": 3,
   "metadata": {},
   "outputs": [
    {
     "name": "stdout",
     "output_type": "stream",
     "text": [
      "['¬(∀xP(x) ∨ ∃yQ(y))']\n"
     ]
    }
   ],
   "source": [
    "def double_not(kb):\n",
    "    new_kb = []\n",
    "    for i in range(len(kb)):\n",
    "        new_kb.append(kb[i].replace(\"¬¬\", \"\"))\n",
    "    return new_kb\n",
    " \n",
    "\n",
    "statement = [\"¬(∀xP(x) ∨ ∃y¬¬Q(y))\"]\n",
    "print(double_not(statement))"
   ]
  },
  {
   "cell_type": "code",
   "execution_count": 4,
   "metadata": {},
   "outputs": [
    {
     "name": "stdout",
     "output_type": "stream",
     "text": [
      "['(∀a P(a)) ∨ (∃b Q(b)) ∨ (∃c Q(c)) ∨ (∃d Q(d))']\n"
     ]
    }
   ],
   "source": [
    "def standardize(kb):\n",
    "     new_kb = []\n",
    "     for expression in kb:\n",
    "          symbols = []\n",
    "          expression_holder = expression\n",
    "          \n",
    "          for i in range (0,len(expression_holder)-1):\n",
    "               counter = 1\n",
    "               new_symbol = ''\n",
    "\n",
    "               if expression_holder[i] == \"∃\" or  expression_holder[i] == \"∀\":\n",
    "                         new_symbol_code = -1\n",
    "                    #We see if the symbol is not dublicated\n",
    "                         if expression_holder[i+1] not in symbols:\n",
    "                               symbols.append(expression_holder[i+1])\n",
    "                    #If dublicated\n",
    "                         else:\n",
    "                              new_expression = \"\"\n",
    "                    #getting new symbol\n",
    "                              while expression_holder[i+1] in symbols:\n",
    "                                   new_symbol_code = ord(expression_holder[i+1]) + counter\n",
    "                                   counter = counter + 1\n",
    "                                   if new_symbol_code != -1:\n",
    "                                        new_symbol = chr(new_symbol_code)\n",
    "                                        symbols.append(new_symbol)\n",
    "                                        break\n",
    "                    #applying the new symbol\n",
    "                              for z in range (0, i+1):\n",
    "                                   new_expression = new_expression + expression_holder[z]\n",
    "                              for j in range (i+1, len(expression_holder)):\n",
    "                                  if(expression_holder[i+1] == expression_holder[j]):\n",
    "                                        new_expression = new_expression + new_symbol\n",
    "                                  else:\n",
    "                                        new_expression = new_expression + expression_holder[j]\n",
    "                    #changing the expression after applying the new symbol\n",
    "                              expression_holder = new_expression\n",
    "                                        \n",
    "                            \n",
    "                                        \n",
    "                                   \n",
    "                        \n",
    "          \n",
    "          new_kb.append(expression_holder)\n",
    "\n",
    "     return new_kb   \n",
    "\n",
    "\n",
    "statement = [\"(∀a P(a)) ∨ (∃a Q(a)) ∨ (∃a Q(a)) ∨ (∃a Q(a))\"]\n",
    "print(standardize(statement))   "
   ]
  },
  {
   "cell_type": "code",
   "execution_count": 5,
   "metadata": {},
   "outputs": [
    {
     "name": "stdout",
     "output_type": "stream",
     "text": [
      "∀x∃y∃z P(x) ∨  Q(y) &  Q(z)\n"
     ]
    }
   ],
   "source": [
    "def move_quantifiers(statement):\n",
    "    \n",
    "    expressions=\"\"\n",
    "    temp = statement\n",
    "    for i in range(len(statement)):\n",
    "        if statement[i]=='∀' or statement[i]=='∃':\n",
    "            expressions+=statement[i]\n",
    "            expressions+=statement[i+1]\n",
    "            new = temp.replace(statement[i:i+2],\"\")\n",
    "            temp = new\n",
    "\n",
    "    statement = expressions + temp\n",
    "    \n",
    "    return statement\n",
    "\n",
    "statement = '∀x P(x) ∨ ∃y Q(y) & ∃z Q(z)'\n",
    "print(move_quantifiers(statement))"
   ]
  },
  {
   "cell_type": "code",
   "execution_count": 6,
   "metadata": {},
   "outputs": [
    {
     "name": "stdout",
     "output_type": "stream",
     "text": [
      "∀x P(x) ∨ Q(F(x))\n"
     ]
    }
   ],
   "source": [
    "import random\n",
    "chars = ['H','M','N','C','D']\n",
    "\n",
    "def skolemization(statement):\n",
    "    temp = statement\n",
    "    if '∃' not in statement:\n",
    "        return statement\n",
    "    elif statement[0]=='∃':\n",
    "        temp = temp.replace(statement[0:2],\"\")\n",
    "        temp = temp.replace(statement[1],chars[random.randint(0, 4)])\n",
    "    elif statement[0]=='∀':\n",
    "        var1 = statement[1]\n",
    "        var2 = statement[3]\n",
    "        toReplace = \"F(\" + var1 + \")\"\n",
    "        temp = temp.replace(statement[2:5],\" \")\n",
    "        temp = temp.replace(statement[3],toReplace)\n",
    "\n",
    "    return temp\n",
    "\n",
    "\n",
    "test = \"∀x∃y P(x) ∨ Q(y)\"\n",
    "print(skolemization(test))"
   ]
  },
  {
   "cell_type": "code",
   "execution_count": 7,
   "metadata": {},
   "outputs": [
    {
     "name": "stdout",
     "output_type": "stream",
     "text": [
      " (P(x) & P(y) & P(z))\n"
     ]
    }
   ],
   "source": [
    "def drop_universal_quantifiers(statement):\n",
    "    temp = statement\n",
    "    while temp[0]=='∀':\n",
    "        temp = temp.replace(temp[0:2],\"\")\n",
    "    \n",
    "    return temp\n",
    "\n",
    "\n",
    "statement = '∀x∀y∀z (P(x) & P(y) & P(z))'\n",
    "print(drop_universal_quantifiers(statement))"
   ]
  },
  {
   "cell_type": "code",
   "execution_count": 8,
   "metadata": {},
   "outputs": [],
   "source": [
    "def cnf(kb):\n",
    "    new_kb = []\n",
    "\n",
    "    new_kb = eliminate_implication(kb)\n",
    "    print(\"After implication elimination: \")\n",
    "    print(new_kb)\n",
    "\n",
    "    new_kb = demorgans(new_kb)\n",
    "    print(\"After Demorgans: \")\n",
    "    print(new_kb)\n",
    "\n",
    "    new_kb = double_not(new_kb)\n",
    "    print(\"After double not elimination: \")\n",
    "    print(new_kb)\n",
    "\n",
    "    new_kb = standardize(new_kb)\n",
    "    print(\"After standardization : \")\n",
    "    print(new_kb)\n",
    "\n",
    "    new_kb = [move_quantifiers(elem) for elem in new_kb]\n",
    "    print(\"After prenex form : \")\n",
    "    print(new_kb)\n",
    "\n",
    "    new_kb = [skolemization(elem) for elem in new_kb]\n",
    "    print(\"After skolemization : \")\n",
    "    print(new_kb)\n",
    "\n",
    "    new_kb = [drop_universal_quantifiers(elem) for elem in new_kb]\n",
    "    print(\"After dropping universal quantifiers : \")\n",
    "    print(new_kb)\n",
    "\n",
    "    return new_kb"
   ]
  },
  {
   "cell_type": "code",
   "execution_count": 9,
   "metadata": {},
   "outputs": [
    {
     "name": "stdout",
     "output_type": "stream",
     "text": [
      "['¬Human(W) ∨ Mortal(W)', '¬Parent(A, Child(A) )', '¬King(X) ∨ Ruler(X)']\n"
     ]
    }
   ],
   "source": [
    "def rename_vriables(kb):\n",
    "    names = ['W','A','X','C','M']\n",
    "    cnt = 0\n",
    "    res = []\n",
    "    for statement in kb:\n",
    "        temp = statement\n",
    "        temp = temp[1:]\n",
    "        temp = temp[:-1]\n",
    "        for i in range(len(temp)):\n",
    "            if temp[i]=='(':\n",
    "                temp = temp.replace(temp[i+1],names[cnt])\n",
    "                res.append(temp)\n",
    "                cnt+=1\n",
    "                break\n",
    "    out = []\n",
    "    for statement in res:\n",
    "        char=''\n",
    "        for k in range(len(statement)):\n",
    "            if statement[k]=='(':\n",
    "                char = statement[k+1]\n",
    "                break\n",
    "        changed = \"\"\n",
    "        for l in range(len(statement)):\n",
    "            if statement[l]=='(':\n",
    "                changed = statement.replace(statement[l+1],char)\n",
    "        out.append(changed)\n",
    "    return out\n",
    "\n",
    "test = [\"(¬Human(x) ∨ Mortal(c))\", \"(¬Parent(x, Child(x) ))\", \"(¬King(x) ∨ Ruler(x))\"]\n",
    "print(rename_vriables(test))"
   ]
  },
  {
   "cell_type": "code",
   "execution_count": 10,
   "metadata": {},
   "outputs": [
    {
     "name": "stdout",
     "output_type": "stream",
     "text": [
      "After implication elimination: \n",
      "['∀x(¬Student(x) ∨ Attend(x))', '∃y∀x(Doctor(x) ∨ Engineer(y))', '∀x(¬Student(z) ∨ ¬¬Excellent(z))', '∀z(Exam(z)) ∨ ∀y (Depressed(y))']\n",
      "After Demorgans: \n",
      "['∀x(¬Student(x) ∨ Attend(x))', '∃y∀x(Doctor(x) ∨ Engineer(y))', '∀x(¬Student(z) ∨ ¬¬Excellent(z))', '∀z(Exam(z)) ∨ ∀y (Depressed(y))']\n",
      "After double not elimination: \n",
      "['∀x(¬Student(x) ∨ Attend(x))', '∃y∀x(Doctor(x) ∨ Engineer(y))', '∀x(¬Student(z) ∨ Excellent(z))', '∀z(Exam(z)) ∨ ∀y (Depressed(y))']\n",
      "After standardization : \n",
      "['∀x(¬Student(x) ∨ Attend(x))', '∃y∀x(Doctor(x) ∨ Engineer(y))', '∀x(¬Student(z) ∨ Excellent(z))', '∀z(Exam(z)) ∨ ∀y (Depressed(y))']\n",
      "After prenex form : \n",
      "['∀x(¬Student(x) ∨ Attend(x))', '∃y∀x(Doctor(x) ∨ Engineer(y))', '∀x(¬Student(z) ∨ Excellent(z))', '∀z∀y(Exam(z)) ∨  (Depressed(y))']\n",
      "After skolemization : \n",
      "['∀x(¬Student(x) ∨ Attend(x))', '∀x(Doctor(x) ∨ Engineer(N))', '∀x(¬Student(z) ∨ Excellent(z))', '∀z∀y(Exam(z)) ∨  (Depressed(y))']\n",
      "After dropping universal quantifiers : \n",
      "['(¬Student(x) ∨ Attend(x))', '(Doctor(x) ∨ Engineer(N))', '(¬Student(z) ∨ Excellent(z))', '(Exam(z)) ∨  (Depressed(y))']\n",
      "Final output: \n",
      "['¬Student(W) ∨ Attend(W)', 'Doctor(A) ∨ Engineer(A)', '¬Student(X) ∨ Excellent(X)', 'Exam(C)) ∨  (Depressed(C)']\n"
     ]
    }
   ],
   "source": [
    "test = [\"∀x(Student(x) → Attend(x))\",\"∃y∀x(Doctor(x) ∨ Engineer(y))\",\"∀x(Student(z) → ¬¬Excellent(z))\",\"∀z(Exam(z)) ∨ ∀y (Depressed(y))\"]\n",
    "\n",
    "cnf1 = cnf(test)\n",
    "res = rename_vriables(cnf1)\n",
    "print(\"Final output: \")\n",
    "print(res)"
   ]
  },
  {
   "cell_type": "code",
   "execution_count": null,
   "metadata": {},
   "outputs": [],
   "source": []
  }
 ],
 "metadata": {
  "kernelspec": {
   "display_name": "Python 3",
   "language": "python",
   "name": "python3"
  },
  "language_info": {
   "codemirror_mode": {
    "name": "ipython",
    "version": 3
   },
   "file_extension": ".py",
   "mimetype": "text/x-python",
   "name": "python",
   "nbconvert_exporter": "python",
   "pygments_lexer": "ipython3",
   "version": "3.11.5"
  }
 },
 "nbformat": 4,
 "nbformat_minor": 2
}
